{
 "cells": [
  {
   "cell_type": "markdown",
   "id": "06ea3758",
   "metadata": {},
   "source": [
    "# Exercise: Python Variables"
   ]
  },
  {
   "cell_type": "code",
   "execution_count": null,
   "id": "d01e8fc7",
   "metadata": {},
   "outputs": [],
   "source": [
    "break = 2 #break is a keyword"
   ]
  },
  {
   "cell_type": "code",
   "execution_count": null,
   "id": "52f9b178",
   "metadata": {},
   "outputs": [],
   "source": [
    "birth_year= int(input())\n",
    "current_year = int(input())\n",
    "print(current_year-birth_year)\n"
   ]
  },
  {
   "cell_type": "code",
   "execution_count": null,
   "id": "31470c3c",
   "metadata": {},
   "outputs": [],
   "source": [
    "first = input()\n",
    "middle = input()\n",
    "last = input()\n",
    "print(first + \" \"+middle +\" \" +last)"
   ]
  },
  {
   "cell_type": "code",
   "execution_count": null,
   "id": "d450d694",
   "metadata": {},
   "outputs": [],
   "source": [
    "_nation =1\n",
    "# 1record = 2   #number shouldn't come first\n",
    "record1 = 3\n",
    "record_one = 4\n",
    "# record-one =5 # cannot assign to operator\n",
    "# record^one = 6 # cannot assign to operator\n",
    "\n",
    "#continue = 7  # #break is a keyword "
   ]
  },
  {
   "cell_type": "markdown",
   "id": "8550e3cc",
   "metadata": {},
   "source": [
    "# Exercise: Numbers in python"
   ]
  },
  {
   "cell_type": "code",
   "execution_count": null,
   "id": "69383988",
   "metadata": {},
   "outputs": [],
   "source": [
    "length=92\n",
    "wide=48.8\n",
    "total_area= length *wide\n",
    "print(total_area)"
   ]
  },
  {
   "cell_type": "code",
   "execution_count": null,
   "id": "9533e933",
   "metadata": {},
   "outputs": [],
   "source": [
    "p=9\n",
    "cost = 1.49\n",
    "print(20-(p * cost))"
   ]
  },
  {
   "cell_type": "code",
   "execution_count": null,
   "id": "7bae3c5d",
   "metadata": {},
   "outputs": [],
   "source": [
    "sq=5.5 ** 5.5\n",
    "print(sq * 500)"
   ]
  },
  {
   "cell_type": "code",
   "execution_count": null,
   "id": "4e11b33a",
   "metadata": {},
   "outputs": [],
   "source": [
    "print(\"{0:b}\".format(int(17)))"
   ]
  },
  {
   "cell_type": "markdown",
   "id": "e7ca69b6",
   "metadata": {},
   "source": [
    "# Exercise: String in Python"
   ]
  },
  {
   "cell_type": "code",
   "execution_count": null,
   "id": "662551a0",
   "metadata": {},
   "outputs": [],
   "source": [
    "street = \"ndp\"\n",
    "city = \"vizag\"\n",
    "country = \"india\"\n",
    "print(street,end=\" \")\n",
    "print(city,end=\" \")\n",
    "print(country)\n",
    "\n",
    "print(f'{street, city, country}')"
   ]
  },
  {
   "cell_type": "code",
   "execution_count": null,
   "id": "f726e62e",
   "metadata": {},
   "outputs": [],
   "source": [
    "a =  \"Earth revolves around the sun\"\n",
    "print(a[6:14])\n",
    "print(a[-1:3])"
   ]
  },
  {
   "cell_type": "code",
   "execution_count": null,
   "id": "bf27c112",
   "metadata": {},
   "outputs": [],
   "source": [
    "x = input()\n",
    "y=input()\n",
    "print(\"i eat\",f'{x} \"and\"f{y} \"veggies everyday\")"
   ]
  },
  {
   "cell_type": "code",
   "execution_count": null,
   "id": "a10445ff",
   "metadata": {},
   "outputs": [],
   "source": [
    "s='maine 200 banana khaye'\n",
    "r='maine 10 samosa khaye'\n",
    "print(s.replace(r))"
   ]
  },
  {
   "cell_type": "markdown",
   "id": "355930b2",
   "metadata": {},
   "source": [
    "# Python Lists"
   ]
  },
  {
   "cell_type": "code",
   "execution_count": null,
   "id": "f7e7b5e7",
   "metadata": {},
   "outputs": [],
   "source": [
    "month=['jan':2200,'feb':2350,'march':2600,'april':2130,'may':2190]\n",
    "res=month[0]-month[1]"
   ]
  },
  {
   "cell_type": "code",
   "execution_count": null,
   "id": "5d80dd4e",
   "metadata": {},
   "outputs": [],
   "source": [
    "month=[2200,2350,2600,2130,2190]\n",
    "month[1]-month[0]"
   ]
  },
  {
   "cell_type": "code",
   "execution_count": null,
   "id": "9f32fd52",
   "metadata": {},
   "outputs": [],
   "source": [
    "s=0\n",
    "for i in range(3):\n",
    "    s+=month[i]\n",
    "print(s)    \n",
    "    "
   ]
  },
  {
   "cell_type": "code",
   "execution_count": null,
   "id": "3b533f7d",
   "metadata": {},
   "outputs": [],
   "source": [
    "2000 in month"
   ]
  },
  {
   "cell_type": "code",
   "execution_count": null,
   "id": "04882637",
   "metadata": {},
   "outputs": [],
   "source": [
    "a=1980\n",
    "month.append(a)\n",
    "month"
   ]
  },
  {
   "cell_type": "code",
   "execution_count": null,
   "id": "d4af6d6a",
   "metadata": {},
   "outputs": [],
   "source": [
    "res=month[3]\n",
    "month[3]=res+200\n",
    "print(month)"
   ]
  },
  {
   "cell_type": "code",
   "execution_count": null,
   "id": "e6a2936d",
   "metadata": {},
   "outputs": [],
   "source": [
    "heros=['spider man','thor','hulk','iron man','captain america'] \n",
    "print('length',len(heros))"
   ]
  },
  {
   "cell_type": "code",
   "execution_count": null,
   "id": "2cda40f1",
   "metadata": {},
   "outputs": [],
   "source": [
    "a='black panther'\n",
    "heros.append(a)\n",
    "heros.insert(-1,'hulk')"
   ]
  },
  {
   "cell_type": "code",
   "execution_count": null,
   "id": "fcfcc276",
   "metadata": {},
   "outputs": [],
   "source": [
    "heros"
   ]
  },
  {
   "cell_type": "code",
   "execution_count": null,
   "id": "f18930f5",
   "metadata": {},
   "outputs": [],
   "source": [
    "heros[1:3]=['doctor strange']\n",
    "heros"
   ]
  },
  {
   "cell_type": "code",
   "execution_count": null,
   "id": "276becc2",
   "metadata": {},
   "outputs": [],
   "source": [
    "heros"
   ]
  },
  {
   "cell_type": "code",
   "execution_count": null,
   "id": "025bbe81",
   "metadata": {},
   "outputs": [],
   "source": [
    "dir(heros)"
   ]
  },
  {
   "cell_type": "code",
   "execution_count": null,
   "id": "44e2615c",
   "metadata": {},
   "outputs": [],
   "source": [
    "heros.sort()\n",
    "print(heros)"
   ]
  },
  {
   "cell_type": "markdown",
   "id": "22ad8dc3",
   "metadata": {},
   "source": [
    "# Python If Condition"
   ]
  },
  {
   "cell_type": "code",
   "execution_count": null,
   "id": "197dec83",
   "metadata": {},
   "outputs": [],
   "source": [
    "india = [\"mumbai\", \"banglore\", \"chennai\", \"delhi\"]\n",
    "pakistan = [\"lahore\",\"karachi\",\"islamabad\"]\n",
    "bangladesh = [\"dhaka\", \"khulna\", \"rangpur\"]\n",
    "user=input()\n",
    "if user in india:\n",
    "    print(f\"{user}in inda\")\n",
    "if user in pakistan:\n",
    "    print(user, \"in pakistan\")\n",
    "if user in bangladesh:\n",
    "    print(user ,\"in bangladesh\")    \n",
    "    "
   ]
  },
  {
   "cell_type": "code",
   "execution_count": null,
   "id": "6507d79c",
   "metadata": {},
   "outputs": [],
   "source": [
    "user_1=input()\n",
    "user_2=input()\n",
    "if user_1 and user_2  in pakistan:\n",
    "    print(user_2,user_1 ,\"in pakistan\")\n",
    "elif user_1 and user_2 in india:\n",
    "    print(user_1,user_2 ,\"in inda\")\n",
    "    \n",
    "elif user_1 and user_2 in bangladesh:    \n",
    "    print(user_1,user_2  ,\"in bangladesh\")\n",
    "else:\n",
    "    print(\"They don't belong to same country\")"
   ]
  },
  {
   "cell_type": "code",
   "execution_count": null,
   "id": "9d29b644",
   "metadata": {},
   "outputs": [],
   "source": [
    "user=int(input('enter his fasting sugar level:'))\n",
    "if user in range(80,100):\n",
    "    print('normal')\n",
    "elif user>100:\n",
    "    print('high')\n",
    "else:\n",
    "    print('low')\n",
    "    "
   ]
  },
  {
   "cell_type": "markdown",
   "id": "4f703f3b",
   "metadata": {},
   "source": [
    "# Python for loop"
   ]
  },
  {
   "cell_type": "code",
   "execution_count": null,
   "id": "bca45c22",
   "metadata": {},
   "outputs": [],
   "source": [
    "result = [\"heads\",\"tails\",\"tails\",\"heads\",\"tails\",\"heads\",\"heads\",\"tails\",\"tails\",\"tails\"]\n",
    "result.count('heads')"
   ]
  },
  {
   "cell_type": "code",
   "execution_count": null,
   "id": "f64cdb1a",
   "metadata": {},
   "outputs": [],
   "source": [
    "re=[]\n",
    "for i in range(1,10):\n",
    "    r=i*i\n",
    "    if r%2!=0:\n",
    "        re.append(r)\n",
    "print(re)\n",
    "        "
   ]
  },
  {
   "cell_type": "code",
   "execution_count": 4,
   "id": "6e402ff8",
   "metadata": {},
   "outputs": [
    {
     "name": "stdout",
     "output_type": "stream",
     "text": [
      "[2340, 2500, 2100, 3100, 2980] chossese from list:10\n"
     ]
    }
   ],
   "source": [
    "expense_list = [2340, 2500, 2100, 3100, 2980]\n",
    "month=['jan','feb','mar','apr','may']\n",
    "user=int(input(f'{expense_list} chossese from list:'))\n",
    "if user in expense_list:\n",
    "    j=expense_list.index(user)\n",
    "    print(month[j])\n",
    "else:\n",
    "    pass"
   ]
  },
  {
   "cell_type": "code",
   "execution_count": 30,
   "id": "784046f1",
   "metadata": {},
   "outputs": [
    {
     "name": "stdout",
     "output_type": "stream",
     "text": [
      "are you tired say yes or no:no\n",
      "you completed 2\n",
      "are you tired say yes or no:no\n",
      "you completed 3\n",
      "are you tired say yes or no:no\n",
      "you completed 4\n",
      "are you tired say yes or no:no\n",
      "you completed 5\n",
      "are you tired say yes or no:no\n",
      "congratulations\n"
     ]
    }
   ],
   "source": [
    "for i in range(6):\n",
    "    if i>=1:\n",
    "        user=input(\"are you tired say yes or no:\")\n",
    "        if user=='yes':\n",
    "            print(\"you didn't finish the race\")\n",
    "            break\n",
    "        elif i==5:\n",
    "            print(\"congratulations\")\n",
    "        else:\n",
    "            print(f'you completed {i}')\n",
    "            \n",
    "    "
   ]
  },
  {
   "cell_type": "code",
   "execution_count": null,
   "id": "d6bc39c5",
   "metadata": {},
   "outputs": [],
   "source": []
  },
  {
   "cell_type": "code",
   "execution_count": 1,
   "id": "2c416232",
   "metadata": {},
   "outputs": [
    {
     "name": "stdout",
     "output_type": "stream",
     "text": [
      "2\n",
      "2\n",
      "2 0\n",
      "9 2\n"
     ]
    },
    {
     "ename": "KeyboardInterrupt",
     "evalue": "",
     "output_type": "error",
     "traceback": [
      "\u001b[1;31m---------------------------------------------------------------------------\u001b[0m",
      "\u001b[1;31mKeyboardInterrupt\u001b[0m                         Traceback (most recent call last)",
      "\u001b[1;32m~\\AppData\\Local\\Temp\\ipykernel_14412\\3965127075.py\u001b[0m in \u001b[0;36m<module>\u001b[1;34m\u001b[0m\n\u001b[0;32m      6\u001b[0m     \u001b[1;32mwhile\u001b[0m\u001b[1;33m(\u001b[0m\u001b[0ms\u001b[0m\u001b[1;33m>\u001b[0m\u001b[1;36m9\u001b[0m\u001b[1;33m)\u001b[0m\u001b[1;33m:\u001b[0m\u001b[1;33m\u001b[0m\u001b[1;33m\u001b[0m\u001b[0m\n\u001b[0;32m      7\u001b[0m         \u001b[0mr\u001b[0m\u001b[1;33m=\u001b[0m\u001b[1;36m0\u001b[0m\u001b[1;33m\u001b[0m\u001b[1;33m\u001b[0m\u001b[0m\n\u001b[1;32m----> 8\u001b[1;33m         \u001b[0mr\u001b[0m\u001b[1;33m=\u001b[0m\u001b[0ms\u001b[0m\u001b[1;33m%\u001b[0m\u001b[1;36m10\u001b[0m\u001b[1;33m\u001b[0m\u001b[1;33m\u001b[0m\u001b[0m\n\u001b[0m\u001b[0;32m      9\u001b[0m         \u001b[0ms\u001b[0m\u001b[1;33m+=\u001b[0m\u001b[0mr\u001b[0m\u001b[1;33m\u001b[0m\u001b[1;33m\u001b[0m\u001b[0m\n\u001b[0;32m     10\u001b[0m \u001b[1;31m#         res=(i for i in s)\u001b[0m\u001b[1;33m\u001b[0m\u001b[1;33m\u001b[0m\u001b[0m\n",
      "\u001b[1;31mKeyboardInterrupt\u001b[0m: "
     ]
    }
   ],
   "source": [
    "for i in range(int(input())):\n",
    "    s=0\n",
    "    for i in range(int(input())):\n",
    "        d,n=map(int,input().split())\n",
    "        s+=d*n\n",
    "    while(s>9):\n",
    "        r=0\n",
    "        r=s%10\n",
    "        s+=r\n",
    "#         res=(i for i in s)\n",
    "#         sum((val[int(i)] for i in input()))\n",
    "\n",
    "print(s)"
   ]
  },
  {
   "cell_type": "code",
   "execution_count": 29,
   "id": "af982d41",
   "metadata": {},
   "outputs": [
    {
     "name": "stdout",
     "output_type": "stream",
     "text": [
      "apple\n",
      "appleapple\n",
      "appleappleoapple\n",
      "appleappleoappleapple\n",
      "appleappleoappleappleapple\n"
     ]
    }
   ],
   "source": [
    "\n",
    "for i in range(1,6):\n",
    "    s=''\n",
    "    for j in range(i):\n",
    "        s+='apple'\n",
    "    print(s)"
   ]
  },
  {
   "cell_type": "markdown",
   "id": "5237fb3f",
   "metadata": {},
   "source": [
    "# Functions in python"
   ]
  },
  {
   "cell_type": "code",
   "execution_count": 40,
   "id": "032e7d20",
   "metadata": {},
   "outputs": [
    {
     "name": "stdout",
     "output_type": "stream",
     "text": [
      "base:2\n",
      "height:3\n",
      "length:4\n",
      "width:5\n"
     ]
    },
    {
     "data": {
      "text/plain": [
       "<function __main__.rect(length, width)>"
      ]
     },
     "execution_count": 40,
     "metadata": {},
     "output_type": "execute_result"
    }
   ],
   "source": [
    "def area(height,base):\n",
    "    area = (1/2)*base*height\n",
    "    return area\n",
    "def rect(length,width):\n",
    "    area=length*width\n",
    "    return rect\n",
    "h=int(input(\"base:\"))\n",
    "b=int(input(\"height:\"))\n",
    "l=int(input(\"length:\"))\n",
    "w=int(input(\"width:\"))\n",
    "area(b,h)\n",
    "rect(l,w)"
   ]
  },
  {
   "cell_type": "code",
   "execution_count": 44,
   "id": "36bf0d0d",
   "metadata": {},
   "outputs": [
    {
     "name": "stdout",
     "output_type": "stream",
     "text": [
      "4\n",
      "*\n",
      "*\n",
      "**\n",
      "*\n",
      "**\n",
      "***\n"
     ]
    }
   ],
   "source": [
    "def pat(i):\n",
    "    for i in range(i):\n",
    "        s=''\n",
    "        for j in range(i):\n",
    "            s+='*'\n",
    "            print(s)\n",
    "            \n",
    "user=int(input())\n",
    "pat(user)"
   ]
  },
  {
   "cell_type": "code",
   "execution_count": 8,
   "id": "0dcdf42b",
   "metadata": {},
   "outputs": [
    {
     "name": "stdout",
     "output_type": "stream",
     "text": [
      "print\n",
      "{'china': 143, 'india': 136, 'usa': 32, 'pakistan': 21}\n"
     ]
    }
   ],
   "source": [
    "tab={\"china\":143,\"india\":136,\"usa\":32,\"pakistan\":21}\n",
    "user=input()\n",
    "if user=='print':\n",
    "    print(tab)\n",
    "elif user=='add':\n",
    "    m=input()\n",
    "    if m in tab:\n",
    "        print(\"already exist\")\n",
    "    tab.add(m)\n",
    "elif user=='remove':\n",
    "    m=input()\n",
    "    if m in tab:\n",
    "        tab.drop(m)\n",
    "else:\n",
    "    print(\"what do youu want\")\n",
    "    "
   ]
  },
  {
   "cell_type": "code",
   "execution_count": null,
   "id": "96046e3f",
   "metadata": {},
   "outputs": [],
   "source": []
  },
  {
   "cell_type": "code",
   "execution_count": null,
   "id": "27f1baef",
   "metadata": {},
   "outputs": [],
   "source": [
    "def binaryToDecimal(binary):\n",
    "    decimal, i = 0, 0\n",
    "    while(binary != 0):\n",
    "    dec = binary % 10\n",
    "    decimal = decimal + dec * pow(2, i)\n",
    "    binary = binary//10\n",
    "    i += 1\n",
    "    print(decimal)\n",
    "\n",
    "\n",
    "# Driver code\n",
    "if __name__ == '__main__':\n",
    "\tbinaryToDecimal(100)\n",
    "\tbinaryToDecimal(101)\n",
    "\tbinaryToDecimal(1001)\n"
   ]
  },
  {
   "cell_type": "markdown",
   "id": "841bfeea",
   "metadata": {},
   "source": [
    "# Exercise: Python Read Write File"
   ]
  },
  {
   "cell_type": "code",
   "execution_count": 22,
   "id": "dccdfb04",
   "metadata": {},
   "outputs": [
    {
     "ename": "SyntaxError",
     "evalue": "(unicode error) 'unicodeescape' codec can't decode bytes in position 2-3: truncated \\UXXXXXXXX escape (3759295307.py, line 1)",
     "output_type": "error",
     "traceback": [
      "\u001b[1;36m  File \u001b[1;32m\"C:\\Users\\Manjuprasad\\AppData\\Local\\Temp\\ipykernel_3136\\3759295307.py\"\u001b[1;36m, line \u001b[1;32m1\u001b[0m\n\u001b[1;33m    f= open('C:\\Users\\Manjuprasad\\Desktop\\poem.txt','r')\u001b[0m\n\u001b[1;37m                                                   ^\u001b[0m\n\u001b[1;31mSyntaxError\u001b[0m\u001b[1;31m:\u001b[0m (unicode error) 'unicodeescape' codec can't decode bytes in position 2-3: truncated \\UXXXXXXXX escape\n"
     ]
    }
   ],
   "source": [
    "f= open('C:\\Users\\Manjuprasad\\Desktop\\poem.txt','r')\n",
    "readline(f)"
   ]
  },
  {
   "cell_type": "code",
   "execution_count": null,
   "id": "5152e395",
   "metadata": {},
   "outputs": [],
   "source": []
  }
 ],
 "metadata": {
  "kernelspec": {
   "display_name": "Python 3 (ipykernel)",
   "language": "python",
   "name": "python3"
  },
  "language_info": {
   "codemirror_mode": {
    "name": "ipython",
    "version": 3
   },
   "file_extension": ".py",
   "mimetype": "text/x-python",
   "name": "python",
   "nbconvert_exporter": "python",
   "pygments_lexer": "ipython3",
   "version": "3.9.13"
  }
 },
 "nbformat": 4,
 "nbformat_minor": 5
}
